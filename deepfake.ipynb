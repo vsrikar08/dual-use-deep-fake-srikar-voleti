{
  "nbformat": 4,
  "nbformat_minor": 0,
  "metadata": {
    "colab": {
      "provenance": []
    },
    "kernelspec": {
      "name": "python3",
      "display_name": "Python 3"
    },
    "language_info": {
      "name": "python"
    }
  },
  "cells": [
    {
      "cell_type": "code",
      "execution_count": null,
      "metadata": {
        "colab": {
          "base_uri": "https://localhost:8080/"
        },
        "id": "Xl54ie1UCFa1",
        "outputId": "3b2b43d8-cade-48c2-f811-2c65f8c44f04"
      },
      "outputs": [
        {
          "output_type": "stream",
          "name": "stdout",
          "text": [
            "Mounted at /content/drive\n"
          ]
        }
      ],
      "source": [
        "#Mount Google Drive as folder\n",
        "\n",
        "from google.colab import drive\n",
        "\n",
        "drive.mount('/content/drive', force_remount=True)"
      ]
    },
    {
      "cell_type": "code",
      "source": [
        "%cd /content/drive/My Drive/deepfake/"
      ],
      "metadata": {
        "colab": {
          "base_uri": "https://localhost:8080/"
        },
        "id": "HxjeF_C_FotO",
        "outputId": "8b31d798-3254-4cd1-a682-e8800026fce0"
      },
      "execution_count": null,
      "outputs": [
        {
          "output_type": "stream",
          "name": "stdout",
          "text": [
            "/content/drive/My Drive/deepfake\n"
          ]
        }
      ]
    },
    {
      "cell_type": "code",
      "source": [
        "!git clone https://github.com/gildarts/DFL_Resurrection"
      ],
      "metadata": {
        "colab": {
          "base_uri": "https://localhost:8080/"
        },
        "id": "F06S74PNFtNe",
        "outputId": "598f2626-5086-43fe-e24a-fb207d938ceb"
      },
      "execution_count": 1,
      "outputs": [
        {
          "output_type": "stream",
          "name": "stdout",
          "text": [
            "Cloning into 'DFL_Resurrection'...\n",
            "remote: Enumerating objects: 8060, done.\u001b[K\n",
            "remote: Total 8060 (delta 0), reused 0 (delta 0), pack-reused 8060 (from 1)\u001b[K\n",
            "Receiving objects: 100% (8060/8060), 828.70 MiB | 29.82 MiB/s, done.\n",
            "Resolving deltas: 100% (5107/5107), done.\n",
            "Updating files: 100% (211/211), done.\n"
          ]
        }
      ]
    },
    {
      "cell_type": "code",
      "source": [],
      "metadata": {
        "id": "6aHNtDbrFtRE"
      },
      "execution_count": null,
      "outputs": []
    }
  ]
}