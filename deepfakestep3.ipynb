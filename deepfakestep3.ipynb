{
  "nbformat": 4,
  "nbformat_minor": 0,
  "metadata": {
    "colab": {
      "provenance": [],
      "gpuType": "V5E1"
    },
    "kernelspec": {
      "name": "python3",
      "display_name": "Python 3"
    },
    "language_info": {
      "name": "python"
    },
    "accelerator": "TPU"
  },
  "cells": [
    {
      "cell_type": "code",
      "execution_count": 1,
      "metadata": {
        "colab": {
          "base_uri": "https://localhost:8080/"
        },
        "id": "Xl54ie1UCFa1",
        "outputId": "1480f0ce-8eac-4033-8b2b-71f118735c99"
      },
      "outputs": [
        {
          "output_type": "stream",
          "name": "stdout",
          "text": [
            "Mounted at /content/drive\n"
          ]
        }
      ],
      "source": [
        "#Mount Google Drive as folder\n",
        "\n",
        "from google.colab import drive\n",
        "\n",
        "drive.mount('/content/drive', force_remount=True)"
      ]
    },
    {
      "cell_type": "code",
      "source": [
        "%cd /content/drive/My Drive/deepfake/"
      ],
      "metadata": {
        "colab": {
          "base_uri": "https://localhost:8080/"
        },
        "id": "HxjeF_C_FotO",
        "outputId": "6f4cf8b2-f7ff-44a4-92cf-c7c759226c08"
      },
      "execution_count": 2,
      "outputs": [
        {
          "output_type": "stream",
          "name": "stdout",
          "text": [
            "/content/drive/My Drive/deepfake\n"
          ]
        }
      ]
    },
    {
      "cell_type": "code",
      "source": [
        "!git clone https://github.com/gildarts/DFL_Resurrection"
      ],
      "metadata": {
        "colab": {
          "base_uri": "https://localhost:8080/"
        },
        "id": "F06S74PNFtNe",
        "outputId": "08dbc1c8-90ae-4e72-fda8-cad59356a616"
      },
      "execution_count": 3,
      "outputs": [
        {
          "output_type": "stream",
          "name": "stdout",
          "text": [
            "fatal: destination path 'DFL_Resurrection' already exists and is not an empty directory.\n"
          ]
        }
      ]
    },
    {
      "cell_type": "code",
      "source": [
        "%cd /content/drive/MyDrive/deepfake/DFL_Resurrection"
      ],
      "metadata": {
        "id": "6aHNtDbrFtRE",
        "colab": {
          "base_uri": "https://localhost:8080/"
        },
        "outputId": "640dff0f-4a7b-426a-ba70-2e370d100baf"
      },
      "execution_count": 4,
      "outputs": [
        {
          "output_type": "stream",
          "name": "stdout",
          "text": [
            "/content/drive/MyDrive/deepfake/DFL_Resurrection\n"
          ]
        }
      ]
    },
    {
      "cell_type": "code",
      "source": [
        "input_video=\"/content/drive/My Drive/deepfake/startvideo.mp4\"\n",
        "output_video=\"/content/drive/My Drive/deepfake/destinationvideo.mp4\""
      ],
      "metadata": {
        "id": "W-DNHgfw7QlZ"
      },
      "execution_count": 5,
      "outputs": []
    },
    {
      "cell_type": "code",
      "source": [
        "!pip install --upgrade scikit-image"
      ],
      "metadata": {
        "colab": {
          "base_uri": "https://localhost:8080/"
        },
        "id": "veDojlsq7TDW",
        "outputId": "dde5ea58-59c9-4bbb-c869-61b216014416"
      },
      "execution_count": 6,
      "outputs": [
        {
          "output_type": "stream",
          "name": "stdout",
          "text": [
            "Traceback (most recent call last):\n",
            "  File \"/usr/local/bin/pip3\", line 4, in <module>\n",
            "    from pip._internal.cli.main import main\n",
            "  File \"/usr/local/lib/python3.12/dist-packages/pip/_internal/cli/main.py\", line 11, in <module>\n",
            "    from pip._internal.cli.autocompletion import autocomplete\n",
            "  File \"/usr/local/lib/python3.12/dist-packages/pip/_internal/cli/autocompletion.py\", line 10, in <module>\n",
            "    from pip._internal.cli.main_parser import create_main_parser\n",
            "  File \"/usr/local/lib/python3.12/dist-packages/pip/_internal/cli/main_parser.py\", line 9, in <module>\n",
            "    from pip._internal.build_env import get_runnable_pip\n",
            "  File \"/usr/local/lib/python3.12/dist-packages/pip/_internal/build_env.py\", line 19, in <module>\n",
            "    from pip._internal.cli.spinners import open_spinner\n",
            "  File \"/usr/local/lib/python3.12/dist-packages/pip/_internal/cli/spinners.py\", line 9, in <module>\n",
            "    from pip._internal.utils.logging import get_indentation\n",
            "  File \"/usr/local/lib/python3.12/dist-packages/pip/_internal/utils/logging.py\", line 13, in <module>\n",
            "    from pip._vendor.rich.console import (\n",
            "  File \"/usr/local/lib/python3.12/dist-packages/pip/_vendor/rich/console.py\", line 47, in <module>\n",
            "    from . import errors, themes\n",
            "  File \"<frozen importlib._bootstrap>\", line 1360, in _find_and_load\n",
            "  File \"<frozen importlib._bootstrap>\", line 1331, in _find_and_load_unlocked\n",
            "  File \"<frozen importlib._bootstrap>\", line 935, in _load_unlocked\n",
            "  File \"<frozen importlib._bootstrap_external>\", line 995, in exec_module\n",
            "  File \"<frozen importlib._bootstrap_external>\", line 1091, in get_code\n",
            "  File \"<frozen importlib._bootstrap_external>\", line 1191, in get_data\n",
            "KeyboardInterrupt\n",
            "^C\n"
          ]
        }
      ]
    },
    {
      "cell_type": "code",
      "source": [
        "!ffmpeg -i \"{input_video}\" -vf scale=1920:1080 \"{output_video}\""
      ],
      "metadata": {
        "colab": {
          "base_uri": "https://localhost:8080/"
        },
        "id": "UqjUdMZM89_D",
        "outputId": "92968f8c-27a9-4c20-c796-4c487229c895"
      },
      "execution_count": 10,
      "outputs": [
        {
          "output_type": "stream",
          "name": "stdout",
          "text": [
            "ffmpeg version 4.4.2-0ubuntu0.22.04.1 Copyright (c) 2000-2021 the FFmpeg developers\n",
            "  built with gcc 11 (Ubuntu 11.2.0-19ubuntu1)\n",
            "  configuration: --prefix=/usr --extra-version=0ubuntu0.22.04.1 --toolchain=hardened --libdir=/usr/lib/x86_64-linux-gnu --incdir=/usr/include/x86_64-linux-gnu --arch=amd64 --enable-gpl --disable-stripping --enable-gnutls --enable-ladspa --enable-libaom --enable-libass --enable-libbluray --enable-libbs2b --enable-libcaca --enable-libcdio --enable-libcodec2 --enable-libdav1d --enable-libflite --enable-libfontconfig --enable-libfreetype --enable-libfribidi --enable-libgme --enable-libgsm --enable-libjack --enable-libmp3lame --enable-libmysofa --enable-libopenjpeg --enable-libopenmpt --enable-libopus --enable-libpulse --enable-librabbitmq --enable-librubberband --enable-libshine --enable-libsnappy --enable-libsoxr --enable-libspeex --enable-libsrt --enable-libssh --enable-libtheora --enable-libtwolame --enable-libvidstab --enable-libvorbis --enable-libvpx --enable-libwebp --enable-libx265 --enable-libxml2 --enable-libxvid --enable-libzimg --enable-libzmq --enable-libzvbi --enable-lv2 --enable-omx --enable-openal --enable-opencl --enable-opengl --enable-sdl2 --enable-pocketsphinx --enable-librsvg --enable-libmfx --enable-libdc1394 --enable-libdrm --enable-libiec61883 --enable-chromaprint --enable-frei0r --enable-libx264 --enable-shared\n",
            "  libavutil      56. 70.100 / 56. 70.100\n",
            "  libavcodec     58.134.100 / 58.134.100\n",
            "  libavformat    58. 76.100 / 58. 76.100\n",
            "  libavdevice    58. 13.100 / 58. 13.100\n",
            "  libavfilter     7.110.100 /  7.110.100\n",
            "  libswscale      5.  9.100 /  5.  9.100\n",
            "  libswresample   3.  9.100 /  3.  9.100\n",
            "  libpostproc    55.  9.100 / 55.  9.100\n",
            "Input #0, mov,mp4,m4a,3gp,3g2,mj2, from '/content/drive/My Drive/deepfake/startvideo.mp4':\n",
            "  Metadata:\n",
            "    major_brand     : mp42\n",
            "    minor_version   : 0\n",
            "    compatible_brands: mp42mp41isomavc1\n",
            "    creation_time   : 2021-05-24T21:03:37.000000Z\n",
            "  Duration: 00:00:13.60, start: 0.000000, bitrate: 3909 kb/s\n",
            "  Stream #0:0(und): Video: h264 (High) (avc1 / 0x31637661), yuv420p(tv, bt709), 1920x1080, 3906 kb/s, 25 fps, 25 tbr, 25 tbn, 50 tbc (default)\n",
            "    Metadata:\n",
            "      creation_time   : 2021-05-24T21:03:37.000000Z\n",
            "      handler_name    : L-SMASH Video Handler\n",
            "      vendor_id       : [0][0][0][0]\n",
            "      encoder         : AVC Coding\n",
            "File '/content/drive/My Drive/deepfake/destinationvideo.mp4' already exists. Overwrite? [y/N] y\n",
            "Stream mapping:\n",
            "  Stream #0:0 -> #0:0 (h264 (native) -> h264 (libx264))\n",
            "Press [q] to stop, [?] for help\n",
            "\u001b[1;36m[libx264 @ 0x5a6b592bfac0] \u001b[0musing cpu capabilities: MMX2 SSE2Fast SSSE3 SSE4.2 AVX FMA3 BMI2 AVX2\n",
            "\u001b[1;36m[libx264 @ 0x5a6b592bfac0] \u001b[0mprofile High, level 4.0, 4:2:0, 8-bit\n",
            "\u001b[1;36m[libx264 @ 0x5a6b592bfac0] \u001b[0m264 - core 163 r3060 5db6aa6 - H.264/MPEG-4 AVC codec - Copyleft 2003-2021 - http://www.videolan.org/x264.html - options: cabac=1 ref=3 deblock=1:0:0 analyse=0x3:0x113 me=hex subme=7 psy=1 psy_rd=1.00:0.00 mixed_ref=1 me_range=16 chroma_me=1 trellis=1 8x8dct=1 cqm=0 deadzone=21,11 fast_pskip=1 chroma_qp_offset=-2 threads=34 lookahead_threads=5 sliced_threads=0 nr=0 decimate=1 interlaced=0 bluray_compat=0 constrained_intra=0 bframes=3 b_pyramid=2 b_adapt=1 b_bias=0 direct=1 weightb=1 open_gop=0 weightp=2 keyint=250 keyint_min=25 scenecut=40 intra_refresh=0 rc_lookahead=40 rc=crf mbtree=1 crf=23.0 qcomp=0.60 qpmin=0 qpmax=69 qpstep=4 ip_ratio=1.40 aq=1:1.00\n",
            "Output #0, mp4, to '/content/drive/My Drive/deepfake/destinationvideo.mp4':\n",
            "  Metadata:\n",
            "    major_brand     : mp42\n",
            "    minor_version   : 0\n",
            "    compatible_brands: mp42mp41isomavc1\n",
            "    encoder         : Lavf58.76.100\n",
            "  Stream #0:0(und): Video: h264 (avc1 / 0x31637661), yuv420p(tv, bt709, progressive), 1920x1080, q=2-31, 25 fps, 12800 tbn (default)\n",
            "    Metadata:\n",
            "      creation_time   : 2021-05-24T21:03:37.000000Z\n",
            "      handler_name    : L-SMASH Video Handler\n",
            "      vendor_id       : [0][0][0][0]\n",
            "      encoder         : Lavc58.134.100 libx264\n",
            "    Side data:\n",
            "      cpb: bitrate max/min/avg: 0/0/0 buffer size: 0 vbv_delay: N/A\n",
            "frame=  340 fps= 30 q=-1.0 Lsize=    3902kB time=00:00:13.48 bitrate=2371.5kbits/s speed=1.19x    \n",
            "video:3898kB audio:0kB subtitle:0kB other streams:0kB global headers:0kB muxing overhead: 0.123875%\n",
            "\u001b[1;36m[libx264 @ 0x5a6b592bfac0] \u001b[0mframe I:2     Avg QP:19.60  size: 78438\n",
            "\u001b[1;36m[libx264 @ 0x5a6b592bfac0] \u001b[0mframe P:97    Avg QP:21.03  size: 24755\n",
            "\u001b[1;36m[libx264 @ 0x5a6b592bfac0] \u001b[0mframe B:241   Avg QP:23.87  size:  5943\n",
            "\u001b[1;36m[libx264 @ 0x5a6b592bfac0] \u001b[0mconsecutive B-frames:  0.6% 11.8%  8.8% 78.8%\n",
            "\u001b[1;36m[libx264 @ 0x5a6b592bfac0] \u001b[0mmb I  I16..4: 16.1% 76.6%  7.3%\n",
            "\u001b[1;36m[libx264 @ 0x5a6b592bfac0] \u001b[0mmb P  I16..4:  2.5%  6.6%  0.3%  P16..4: 53.6%  8.9%  4.4%  0.0%  0.0%    skip:23.8%\n",
            "\u001b[1;36m[libx264 @ 0x5a6b592bfac0] \u001b[0mmb B  I16..4:  0.2%  0.3%  0.0%  B16..8: 31.9%  1.2%  0.1%  direct: 1.8%  skip:64.4%  L0:43.7% L1:53.8% BI: 2.5%\n",
            "\u001b[1;36m[libx264 @ 0x5a6b592bfac0] \u001b[0m8x8 transform intra:70.0% inter:91.8%\n",
            "\u001b[1;36m[libx264 @ 0x5a6b592bfac0] \u001b[0mcoded y,uvDC,uvAC intra: 38.5% 61.5% 17.9% inter: 6.0% 18.6% 0.5%\n",
            "\u001b[1;36m[libx264 @ 0x5a6b592bfac0] \u001b[0mi16 v,h,dc,p: 33% 19% 15% 33%\n",
            "\u001b[1;36m[libx264 @ 0x5a6b592bfac0] \u001b[0mi8 v,h,dc,ddl,ddr,vr,hd,vl,hu: 22% 12% 34%  4%  6%  7%  5%  6%  4%\n",
            "\u001b[1;36m[libx264 @ 0x5a6b592bfac0] \u001b[0mi4 v,h,dc,ddl,ddr,vr,hd,vl,hu: 27% 14% 16%  5% 11%  9%  8%  6%  3%\n",
            "\u001b[1;36m[libx264 @ 0x5a6b592bfac0] \u001b[0mi8c dc,h,v,p: 56% 16% 21%  7%\n",
            "\u001b[1;36m[libx264 @ 0x5a6b592bfac0] \u001b[0mWeighted P-Frames: Y:0.0% UV:0.0%\n",
            "\u001b[1;36m[libx264 @ 0x5a6b592bfac0] \u001b[0mref P L0: 58.2%  8.2% 24.9%  8.7%\n",
            "\u001b[1;36m[libx264 @ 0x5a6b592bfac0] \u001b[0mref B L0: 88.9%  8.6%  2.6%\n",
            "\u001b[1;36m[libx264 @ 0x5a6b592bfac0] \u001b[0mref B L1: 97.9%  2.1%\n",
            "\u001b[1;36m[libx264 @ 0x5a6b592bfac0] \u001b[0mkb/s:2347.30\n"
          ]
        }
      ]
    },
    {
      "cell_type": "code",
      "source": [
        "!pip install colorama\n"
      ],
      "metadata": {
        "colab": {
          "base_uri": "https://localhost:8080/"
        },
        "id": "a7yZNrF1-UQR",
        "outputId": "5370e621-688f-4c9d-f542-256d1f4d4b1a"
      },
      "execution_count": 8,
      "outputs": [
        {
          "output_type": "stream",
          "name": "stdout",
          "text": [
            "Collecting colorama\n",
            "  Downloading colorama-0.4.6-py2.py3-none-any.whl.metadata (17 kB)\n",
            "Downloading colorama-0.4.6-py2.py3-none-any.whl (25 kB)\n",
            "Installing collected packages: colorama\n",
            "Successfully installed colorama-0.4.6\n"
          ]
        }
      ]
    },
    {
      "cell_type": "code",
      "source": [
        "!pip install ffmpeg-python\n"
      ],
      "metadata": {
        "colab": {
          "base_uri": "https://localhost:8080/"
        },
        "id": "_DSzK1DC_0Ui",
        "outputId": "ad15bfee-af43-42b3-ab2b-604f88c480d9"
      },
      "execution_count": 11,
      "outputs": [
        {
          "output_type": "stream",
          "name": "stdout",
          "text": [
            "Collecting ffmpeg-python\n",
            "  Downloading ffmpeg_python-0.2.0-py3-none-any.whl.metadata (1.7 kB)\n",
            "Collecting future (from ffmpeg-python)\n",
            "  Downloading future-1.0.0-py3-none-any.whl.metadata (4.0 kB)\n",
            "Downloading ffmpeg_python-0.2.0-py3-none-any.whl (25 kB)\n",
            "Downloading future-1.0.0-py3-none-any.whl (491 kB)\n",
            "\u001b[?25l   \u001b[90m━━━━━━━━━━━━━━━━━━━━━━━━━━━━━━━━━━━━━━━━\u001b[0m \u001b[32m0.0/491.3 kB\u001b[0m \u001b[31m?\u001b[0m eta \u001b[36m-:--:--\u001b[0m\r\u001b[2K   \u001b[90m━━━━━━━━━━━━━━━━━━━━━━━━━━━━━━━━━━━━━━━━\u001b[0m \u001b[32m491.3/491.3 kB\u001b[0m \u001b[31m14.7 MB/s\u001b[0m eta \u001b[36m0:00:00\u001b[0m\n",
            "\u001b[?25hInstalling collected packages: future, ffmpeg-python\n",
            "Successfully installed ffmpeg-python-0.2.0 future-1.0.0\n"
          ]
        }
      ]
    },
    {
      "cell_type": "code",
      "source": [
        "video_path = \"/content/drive/My Drive/deepfake/startvideo.mp4\"\n",
        "!ffprobe -v error -select_streams v:0 -show_entries stream=r_frame_rate -of default=noprint_wrappers=1:nokey=1 \"{video_path}\"\n"
      ],
      "metadata": {
        "colab": {
          "base_uri": "https://localhost:8080/"
        },
        "id": "dERe41lGAQ-_",
        "outputId": "b02f596d-3d14-4b97-d748-c75cdd51daee"
      },
      "execution_count": 14,
      "outputs": [
        {
          "output_type": "stream",
          "name": "stdout",
          "text": [
            "25/1\n"
          ]
        }
      ]
    },
    {
      "cell_type": "code",
      "source": [
        "!pip install opencv-python\n",
        "!pip install tensorflow\n"
      ],
      "metadata": {
        "colab": {
          "base_uri": "https://localhost:8080/"
        },
        "id": "9Mb7iqWiFJ-P",
        "outputId": "27c5a97e-9aca-457c-d0b8-953486541522"
      },
      "execution_count": 18,
      "outputs": [
        {
          "output_type": "stream",
          "name": "stdout",
          "text": [
            "Requirement already satisfied: opencv-python in /usr/local/lib/python3.12/dist-packages (4.12.0.88)\n",
            "Requirement already satisfied: numpy<2.3.0,>=2 in /usr/local/lib/python3.12/dist-packages (from opencv-python) (2.0.2)\n",
            "Collecting tensorflow\n",
            "  Downloading tensorflow-2.20.0-cp312-cp312-manylinux_2_17_x86_64.manylinux2014_x86_64.whl.metadata (4.5 kB)\n",
            "Requirement already satisfied: absl-py>=1.0.0 in /usr/local/lib/python3.12/dist-packages (from tensorflow) (1.4.0)\n",
            "Collecting astunparse>=1.6.0 (from tensorflow)\n",
            "  Downloading astunparse-1.6.3-py2.py3-none-any.whl.metadata (4.4 kB)\n",
            "Collecting flatbuffers>=24.3.25 (from tensorflow)\n",
            "  Downloading flatbuffers-25.9.23-py2.py3-none-any.whl.metadata (875 bytes)\n",
            "Requirement already satisfied: gast!=0.5.0,!=0.5.1,!=0.5.2,>=0.2.1 in /usr/local/lib/python3.12/dist-packages (from tensorflow) (0.6.0)\n",
            "Collecting google_pasta>=0.1.1 (from tensorflow)\n",
            "  Downloading google_pasta-0.2.0-py3-none-any.whl.metadata (814 bytes)\n",
            "Collecting libclang>=13.0.0 (from tensorflow)\n",
            "  Downloading libclang-18.1.1-py2.py3-none-manylinux2010_x86_64.whl.metadata (5.2 kB)\n",
            "Requirement already satisfied: opt_einsum>=2.3.2 in /usr/local/lib/python3.12/dist-packages (from tensorflow) (3.4.0)\n",
            "Requirement already satisfied: packaging in /usr/local/lib/python3.12/dist-packages (from tensorflow) (25.0)\n",
            "Requirement already satisfied: protobuf>=5.28.0 in /usr/local/lib/python3.12/dist-packages (from tensorflow) (6.32.1)\n",
            "Requirement already satisfied: requests<3,>=2.21.0 in /usr/local/lib/python3.12/dist-packages (from tensorflow) (2.32.4)\n",
            "Requirement already satisfied: setuptools in /usr/local/lib/python3.12/dist-packages (from tensorflow) (75.2.0)\n",
            "Requirement already satisfied: six>=1.12.0 in /usr/local/lib/python3.12/dist-packages (from tensorflow) (1.17.0)\n",
            "Requirement already satisfied: termcolor>=1.1.0 in /usr/local/lib/python3.12/dist-packages (from tensorflow) (3.1.0)\n",
            "Requirement already satisfied: typing_extensions>=3.6.6 in /usr/local/lib/python3.12/dist-packages (from tensorflow) (4.15.0)\n",
            "Requirement already satisfied: wrapt>=1.11.0 in /usr/local/lib/python3.12/dist-packages (from tensorflow) (1.17.3)\n",
            "Requirement already satisfied: grpcio<2.0,>=1.24.3 in /usr/local/lib/python3.12/dist-packages (from tensorflow) (1.75.0)\n",
            "Collecting tensorboard~=2.20.0 (from tensorflow)\n",
            "  Downloading tensorboard-2.20.0-py3-none-any.whl.metadata (1.8 kB)\n",
            "Requirement already satisfied: keras>=3.10.0 in /usr/local/lib/python3.12/dist-packages (from tensorflow) (3.10.0)\n",
            "Requirement already satisfied: numpy>=1.26.0 in /usr/local/lib/python3.12/dist-packages (from tensorflow) (2.0.2)\n",
            "Requirement already satisfied: h5py>=3.11.0 in /usr/local/lib/python3.12/dist-packages (from tensorflow) (3.14.0)\n",
            "Requirement already satisfied: ml_dtypes<1.0.0,>=0.5.1 in /usr/local/lib/python3.12/dist-packages (from tensorflow) (0.5.3)\n",
            "Collecting wheel<1.0,>=0.23.0 (from astunparse>=1.6.0->tensorflow)\n",
            "  Downloading wheel-0.45.1-py3-none-any.whl.metadata (2.3 kB)\n",
            "Requirement already satisfied: rich in /usr/local/lib/python3.12/dist-packages (from keras>=3.10.0->tensorflow) (14.1.0)\n",
            "Requirement already satisfied: namex in /usr/local/lib/python3.12/dist-packages (from keras>=3.10.0->tensorflow) (0.1.0)\n",
            "Requirement already satisfied: optree in /usr/local/lib/python3.12/dist-packages (from keras>=3.10.0->tensorflow) (0.17.0)\n",
            "Requirement already satisfied: charset_normalizer<4,>=2 in /usr/local/lib/python3.12/dist-packages (from requests<3,>=2.21.0->tensorflow) (3.4.3)\n",
            "Requirement already satisfied: idna<4,>=2.5 in /usr/local/lib/python3.12/dist-packages (from requests<3,>=2.21.0->tensorflow) (3.10)\n",
            "Requirement already satisfied: urllib3<3,>=1.21.1 in /usr/local/lib/python3.12/dist-packages (from requests<3,>=2.21.0->tensorflow) (2.5.0)\n",
            "Requirement already satisfied: certifi>=2017.4.17 in /usr/local/lib/python3.12/dist-packages (from requests<3,>=2.21.0->tensorflow) (2025.8.3)\n",
            "Requirement already satisfied: markdown>=2.6.8 in /usr/lib/python3/dist-packages (from tensorboard~=2.20.0->tensorflow) (3.3.6)\n",
            "Requirement already satisfied: pillow in /usr/local/lib/python3.12/dist-packages (from tensorboard~=2.20.0->tensorflow) (11.3.0)\n",
            "Collecting tensorboard-data-server<0.8.0,>=0.7.0 (from tensorboard~=2.20.0->tensorflow)\n",
            "  Downloading tensorboard_data_server-0.7.2-py3-none-manylinux_2_31_x86_64.whl.metadata (1.1 kB)\n",
            "Collecting werkzeug>=1.0.1 (from tensorboard~=2.20.0->tensorflow)\n",
            "  Downloading werkzeug-3.1.3-py3-none-any.whl.metadata (3.7 kB)\n",
            "Requirement already satisfied: MarkupSafe>=2.1.1 in /usr/local/lib/python3.12/dist-packages (from werkzeug>=1.0.1->tensorboard~=2.20.0->tensorflow) (3.0.2)\n",
            "Requirement already satisfied: markdown-it-py>=2.2.0 in /usr/local/lib/python3.12/dist-packages (from rich->keras>=3.10.0->tensorflow) (4.0.0)\n",
            "Requirement already satisfied: pygments<3.0.0,>=2.13.0 in /usr/local/lib/python3.12/dist-packages (from rich->keras>=3.10.0->tensorflow) (2.19.2)\n",
            "Requirement already satisfied: mdurl~=0.1 in /usr/local/lib/python3.12/dist-packages (from markdown-it-py>=2.2.0->rich->keras>=3.10.0->tensorflow) (0.1.2)\n",
            "Downloading tensorflow-2.20.0-cp312-cp312-manylinux_2_17_x86_64.manylinux2014_x86_64.whl (620.7 MB)\n",
            "\u001b[2K   \u001b[90m━━━━━━━━━━━━━━━━━━━━━━━━━━━━━━━━━━━━━━━\u001b[0m \u001b[32m620.7/620.7 MB\u001b[0m \u001b[31m820.0 kB/s\u001b[0m eta \u001b[36m0:00:00\u001b[0m\n",
            "\u001b[?25hDownloading astunparse-1.6.3-py2.py3-none-any.whl (12 kB)\n",
            "Downloading flatbuffers-25.9.23-py2.py3-none-any.whl (30 kB)\n",
            "Downloading google_pasta-0.2.0-py3-none-any.whl (57 kB)\n",
            "\u001b[2K   \u001b[90m━━━━━━━━━━━━━━━━━━━━━━━━━━━━━━━━━━━━━━━━\u001b[0m \u001b[32m57.5/57.5 kB\u001b[0m \u001b[31m5.9 MB/s\u001b[0m eta \u001b[36m0:00:00\u001b[0m\n",
            "\u001b[?25hDownloading libclang-18.1.1-py2.py3-none-manylinux2010_x86_64.whl (24.5 MB)\n",
            "\u001b[2K   \u001b[90m━━━━━━━━━━━━━━━━━━━━━━━━━━━━━━━━━━━━━━━━\u001b[0m \u001b[32m24.5/24.5 MB\u001b[0m \u001b[31m87.7 MB/s\u001b[0m eta \u001b[36m0:00:00\u001b[0m\n",
            "\u001b[?25hDownloading tensorboard-2.20.0-py3-none-any.whl (5.5 MB)\n",
            "\u001b[2K   \u001b[90m━━━━━━━━━━━━━━━━━━━━━━━━━━━━━━━━━━━━━━━━\u001b[0m \u001b[32m5.5/5.5 MB\u001b[0m \u001b[31m123.8 MB/s\u001b[0m eta \u001b[36m0:00:00\u001b[0m\n",
            "\u001b[?25hDownloading tensorboard_data_server-0.7.2-py3-none-manylinux_2_31_x86_64.whl (6.6 MB)\n",
            "\u001b[2K   \u001b[90m━━━━━━━━━━━━━━━━━━━━━━━━━━━━━━━━━━━━━━━━\u001b[0m \u001b[32m6.6/6.6 MB\u001b[0m \u001b[31m112.3 MB/s\u001b[0m eta \u001b[36m0:00:00\u001b[0m\n",
            "\u001b[?25hDownloading werkzeug-3.1.3-py3-none-any.whl (224 kB)\n",
            "\u001b[2K   \u001b[90m━━━━━━━━━━━━━━━━━━━━━━━━━━━━━━━━━━━━━━━━\u001b[0m \u001b[32m224.5/224.5 kB\u001b[0m \u001b[31m21.0 MB/s\u001b[0m eta \u001b[36m0:00:00\u001b[0m\n",
            "\u001b[?25hDownloading wheel-0.45.1-py3-none-any.whl (72 kB)\n",
            "\u001b[2K   \u001b[90m━━━━━━━━━━━━━━━━━━━━━━━━━━━━━━━━━━━━━━━━\u001b[0m \u001b[32m72.5/72.5 kB\u001b[0m \u001b[31m8.0 MB/s\u001b[0m eta \u001b[36m0:00:00\u001b[0m\n",
            "\u001b[?25hInstalling collected packages: libclang, flatbuffers, wheel, werkzeug, tensorboard-data-server, google_pasta, tensorboard, astunparse, tensorflow\n",
            "Successfully installed astunparse-1.6.3 flatbuffers-25.9.23 google_pasta-0.2.0 libclang-18.1.1 tensorboard-2.20.0 tensorboard-data-server-0.7.2 tensorflow-2.20.0 werkzeug-3.1.3 wheel-0.45.1\n"
          ]
        }
      ]
    },
    {
      "cell_type": "code",
      "source": [
        "!mkdir -p /content/workspace"
      ],
      "metadata": {
        "id": "eMwe2bEdGHZA"
      },
      "execution_count": 20,
      "outputs": []
    },
    {
      "cell_type": "code",
      "source": [
        "!python main.py videoed extract-video --input-file \"/content/drive/MyDrive/deepfake/startvideo.mp4\" --output-dir  \"/content/workspace/data_src\""
      ],
      "metadata": {
        "colab": {
          "base_uri": "https://localhost:8080/"
        },
        "id": "oKKQ4AGW8-Iy",
        "outputId": "d8c664a8-6147-4a13-8697-470023d19597"
      },
      "execution_count": 21,
      "outputs": [
        {
          "output_type": "stream",
          "name": "stdout",
          "text": [
            "/content/drive/MyDrive/deepfake/DFL_Resurrection/main.py:52: SyntaxWarning: invalid escape sequence '\\ '\n",
            "  p.add_argument('--output-debug', action=\"store_true\", dest=\"output_debug\", default=None, help=\"Writes debug images to <output-dir>_debug\\ directory.\")\n",
            "/content/drive/MyDrive/deepfake/DFL_Resurrection/main.py:53: SyntaxWarning: invalid escape sequence '\\ '\n",
            "  p.add_argument('--no-output-debug', action=\"store_false\", dest=\"output_debug\", default=None, help=\"Don't writes debug images to <output-dir>_debug\\ directory.\")\n",
            "/content/drive/MyDrive/deepfake/DFL_Resurrection/main.py:59: SyntaxWarning: invalid escape sequence '\\ '\n",
            "  p.add_argument('--manual-output-debug-fix', action=\"store_true\", dest=\"manual_output_debug_fix\", default=False, help=\"Performs manual reextract input-dir frames which were deleted from [output_dir]_debug\\ dir.\")\n",
            "/content/drive/MyDrive/deepfake/DFL_Resurrection/main.py:52: SyntaxWarning: invalid escape sequence '\\ '\n",
            "  p.add_argument('--output-debug', action=\"store_true\", dest=\"output_debug\", default=None, help=\"Writes debug images to <output-dir>_debug\\ directory.\")\n",
            "/content/drive/MyDrive/deepfake/DFL_Resurrection/main.py:53: SyntaxWarning: invalid escape sequence '\\ '\n",
            "  p.add_argument('--no-output-debug', action=\"store_false\", dest=\"output_debug\", default=None, help=\"Don't writes debug images to <output-dir>_debug\\ directory.\")\n",
            "/content/drive/MyDrive/deepfake/DFL_Resurrection/main.py:59: SyntaxWarning: invalid escape sequence '\\ '\n",
            "  p.add_argument('--manual-output-debug-fix', action=\"store_true\", dest=\"manual_output_debug_fix\", default=False, help=\"Performs manual reextract input-dir frames which were deleted from [output_dir]_debug\\ dir.\")\n",
            "/usr/local/lib/python3.12/dist-packages/jax/_src/cloud_tpu_init.py:82: UserWarning: Transparent hugepages are not enabled. TPU runtime startup and shutdown time should be significantly improved on TPU v5e and newer. If not already set, you may need to enable transparent hugepages in your VM image (sudo sh -c \"echo always > /sys/kernel/mm/transparent_hugepage/enabled\")\n",
            "  warnings.warn(\n",
            "[0] Enter FPS ( ?:help ) : 25\n",
            "25\n",
            "[png] Output image format ( png/jpg ?:help ) : png\n",
            "png\n",
            "ffmpeg version 4.4.2-0ubuntu0.22.04.1 Copyright (c) 2000-2021 the FFmpeg developers\n",
            "  built with gcc 11 (Ubuntu 11.2.0-19ubuntu1)\n",
            "  configuration: --prefix=/usr --extra-version=0ubuntu0.22.04.1 --toolchain=hardened --libdir=/usr/lib/x86_64-linux-gnu --incdir=/usr/include/x86_64-linux-gnu --arch=amd64 --enable-gpl --disable-stripping --enable-gnutls --enable-ladspa --enable-libaom --enable-libass --enable-libbluray --enable-libbs2b --enable-libcaca --enable-libcdio --enable-libcodec2 --enable-libdav1d --enable-libflite --enable-libfontconfig --enable-libfreetype --enable-libfribidi --enable-libgme --enable-libgsm --enable-libjack --enable-libmp3lame --enable-libmysofa --enable-libopenjpeg --enable-libopenmpt --enable-libopus --enable-libpulse --enable-librabbitmq --enable-librubberband --enable-libshine --enable-libsnappy --enable-libsoxr --enable-libspeex --enable-libsrt --enable-libssh --enable-libtheora --enable-libtwolame --enable-libvidstab --enable-libvorbis --enable-libvpx --enable-libwebp --enable-libx265 --enable-libxml2 --enable-libxvid --enable-libzimg --enable-libzmq --enable-libzvbi --enable-lv2 --enable-omx --enable-openal --enable-opencl --enable-opengl --enable-sdl2 --enable-pocketsphinx --enable-librsvg --enable-libmfx --enable-libdc1394 --enable-libdrm --enable-libiec61883 --enable-chromaprint --enable-frei0r --enable-libx264 --enable-shared\n",
            "  libavutil      56. 70.100 / 56. 70.100\n",
            "  libavcodec     58.134.100 / 58.134.100\n",
            "  libavformat    58. 76.100 / 58. 76.100\n",
            "  libavdevice    58. 13.100 / 58. 13.100\n",
            "  libavfilter     7.110.100 /  7.110.100\n",
            "  libswscale      5.  9.100 /  5.  9.100\n",
            "  libswresample   3.  9.100 /  3.  9.100\n",
            "  libpostproc    55.  9.100 / 55.  9.100\n",
            "Input #0, mov,mp4,m4a,3gp,3g2,mj2, from '/content/drive/MyDrive/deepfake/startvideo.mp4':\n",
            "  Metadata:\n",
            "    major_brand     : mp42\n",
            "    minor_version   : 0\n",
            "    compatible_brands: mp42mp41isomavc1\n",
            "    creation_time   : 2021-05-24T21:03:37.000000Z\n",
            "  Duration: 00:00:13.60, start: 0.000000, bitrate: 3909 kb/s\n",
            "  Stream #0:0(und): Video: h264 (High) (avc1 / 0x31637661), yuv420p(tv, bt709), 1920x1080, 3906 kb/s, 25 fps, 25 tbr, 25 tbn, 50 tbc (default)\n",
            "    Metadata:\n",
            "      creation_time   : 2021-05-24T21:03:37.000000Z\n",
            "      handler_name    : L-SMASH Video Handler\n",
            "      vendor_id       : [0][0][0][0]\n",
            "      encoder         : AVC Coding\n",
            "Stream mapping:\n",
            "  Stream #0:0 -> #0:0 (h264 (native) -> png (native))\n",
            "Press [q] to stop, [?] for help\n",
            "Output #0, image2, to '/content/workspace/data_src/%5d.png':\n",
            "  Metadata:\n",
            "    major_brand     : mp42\n",
            "    minor_version   : 0\n",
            "    compatible_brands: mp42mp41isomavc1\n",
            "    encoder         : Lavf58.76.100\n",
            "  Stream #0:0(und): Video: png, rgb24(pc, gbr/bt709/bt709, progressive), 1920x1080, q=2-31, 200 kb/s, 25 fps, 25 tbn (default)\n",
            "    Metadata:\n",
            "      creation_time   : 2021-05-24T21:03:37.000000Z\n",
            "      handler_name    : L-SMASH Video Handler\n",
            "      vendor_id       : [0][0][0][0]\n",
            "      encoder         : Lavc58.134.100 png\n",
            "frame=  340 fps= 19 q=-0.0 Lsize=N/A time=00:00:13.60 bitrate=N/A speed=0.768x    \n",
            "video:773338kB audio:0kB subtitle:0kB other streams:0kB global headers:0kB muxing overhead: unknown\n",
            "Done.\n"
          ]
        }
      ]
    },
    {
      "cell_type": "code",
      "source": [
        "!python main.py videoed extract-video --input-file \"/content/drive/MyDrive/deepfake/destinationvideo.mp4\" --output-dir  \"/content/workspace/data_dst\""
      ],
      "metadata": {
        "colab": {
          "base_uri": "https://localhost:8080/"
        },
        "id": "teWTvxjNBXP1",
        "outputId": "e99f55cd-dabc-46f8-b971-dc924a0a93d6"
      },
      "execution_count": 22,
      "outputs": [
        {
          "output_type": "stream",
          "name": "stdout",
          "text": [
            "/content/drive/MyDrive/deepfake/DFL_Resurrection/main.py:52: SyntaxWarning: invalid escape sequence '\\ '\n",
            "  p.add_argument('--output-debug', action=\"store_true\", dest=\"output_debug\", default=None, help=\"Writes debug images to <output-dir>_debug\\ directory.\")\n",
            "/content/drive/MyDrive/deepfake/DFL_Resurrection/main.py:53: SyntaxWarning: invalid escape sequence '\\ '\n",
            "  p.add_argument('--no-output-debug', action=\"store_false\", dest=\"output_debug\", default=None, help=\"Don't writes debug images to <output-dir>_debug\\ directory.\")\n",
            "/content/drive/MyDrive/deepfake/DFL_Resurrection/main.py:59: SyntaxWarning: invalid escape sequence '\\ '\n",
            "  p.add_argument('--manual-output-debug-fix', action=\"store_true\", dest=\"manual_output_debug_fix\", default=False, help=\"Performs manual reextract input-dir frames which were deleted from [output_dir]_debug\\ dir.\")\n",
            "/content/drive/MyDrive/deepfake/DFL_Resurrection/main.py:52: SyntaxWarning: invalid escape sequence '\\ '\n",
            "  p.add_argument('--output-debug', action=\"store_true\", dest=\"output_debug\", default=None, help=\"Writes debug images to <output-dir>_debug\\ directory.\")\n",
            "/content/drive/MyDrive/deepfake/DFL_Resurrection/main.py:53: SyntaxWarning: invalid escape sequence '\\ '\n",
            "  p.add_argument('--no-output-debug', action=\"store_false\", dest=\"output_debug\", default=None, help=\"Don't writes debug images to <output-dir>_debug\\ directory.\")\n",
            "/content/drive/MyDrive/deepfake/DFL_Resurrection/main.py:59: SyntaxWarning: invalid escape sequence '\\ '\n",
            "  p.add_argument('--manual-output-debug-fix', action=\"store_true\", dest=\"manual_output_debug_fix\", default=False, help=\"Performs manual reextract input-dir frames which were deleted from [output_dir]_debug\\ dir.\")\n",
            "/usr/local/lib/python3.12/dist-packages/jax/_src/cloud_tpu_init.py:82: UserWarning: Transparent hugepages are not enabled. TPU runtime startup and shutdown time should be significantly improved on TPU v5e and newer. If not already set, you may need to enable transparent hugepages in your VM image (sudo sh -c \"echo always > /sys/kernel/mm/transparent_hugepage/enabled\")\n",
            "  warnings.warn(\n",
            "[0] Enter FPS ( ?:help ) : 25\n",
            "25\n",
            "[png] Output image format ( png/jpg ?:help ) : png\n",
            "png\n",
            "ffmpeg version 4.4.2-0ubuntu0.22.04.1 Copyright (c) 2000-2021 the FFmpeg developers\n",
            "  built with gcc 11 (Ubuntu 11.2.0-19ubuntu1)\n",
            "  configuration: --prefix=/usr --extra-version=0ubuntu0.22.04.1 --toolchain=hardened --libdir=/usr/lib/x86_64-linux-gnu --incdir=/usr/include/x86_64-linux-gnu --arch=amd64 --enable-gpl --disable-stripping --enable-gnutls --enable-ladspa --enable-libaom --enable-libass --enable-libbluray --enable-libbs2b --enable-libcaca --enable-libcdio --enable-libcodec2 --enable-libdav1d --enable-libflite --enable-libfontconfig --enable-libfreetype --enable-libfribidi --enable-libgme --enable-libgsm --enable-libjack --enable-libmp3lame --enable-libmysofa --enable-libopenjpeg --enable-libopenmpt --enable-libopus --enable-libpulse --enable-librabbitmq --enable-librubberband --enable-libshine --enable-libsnappy --enable-libsoxr --enable-libspeex --enable-libsrt --enable-libssh --enable-libtheora --enable-libtwolame --enable-libvidstab --enable-libvorbis --enable-libvpx --enable-libwebp --enable-libx265 --enable-libxml2 --enable-libxvid --enable-libzimg --enable-libzmq --enable-libzvbi --enable-lv2 --enable-omx --enable-openal --enable-opencl --enable-opengl --enable-sdl2 --enable-pocketsphinx --enable-librsvg --enable-libmfx --enable-libdc1394 --enable-libdrm --enable-libiec61883 --enable-chromaprint --enable-frei0r --enable-libx264 --enable-shared\n",
            "  libavutil      56. 70.100 / 56. 70.100\n",
            "  libavcodec     58.134.100 / 58.134.100\n",
            "  libavformat    58. 76.100 / 58. 76.100\n",
            "  libavdevice    58. 13.100 / 58. 13.100\n",
            "  libavfilter     7.110.100 /  7.110.100\n",
            "  libswscale      5.  9.100 /  5.  9.100\n",
            "  libswresample   3.  9.100 /  3.  9.100\n",
            "  libpostproc    55.  9.100 / 55.  9.100\n",
            "Input #0, mov,mp4,m4a,3gp,3g2,mj2, from '/content/drive/MyDrive/deepfake/destinationvideo.mp4':\n",
            "  Metadata:\n",
            "    major_brand     : isom\n",
            "    minor_version   : 512\n",
            "    compatible_brands: isomiso2avc1mp41\n",
            "    encoder         : Lavf58.76.100\n",
            "  Duration: 00:00:13.60, start: 0.000000, bitrate: 2350 kb/s\n",
            "  Stream #0:0(und): Video: h264 (High) (avc1 / 0x31637661), yuv420p(tv, bt709), 1920x1080, 2347 kb/s, 25 fps, 25 tbr, 12800 tbn, 50 tbc (default)\n",
            "    Metadata:\n",
            "      handler_name    : L-SMASH Video Handler\n",
            "      vendor_id       : [0][0][0][0]\n",
            "Stream mapping:\n",
            "  Stream #0:0 -> #0:0 (h264 (native) -> png (native))\n",
            "Press [q] to stop, [?] for help\n",
            "Output #0, image2, to '/content/workspace/data_dst/%5d.png':\n",
            "  Metadata:\n",
            "    major_brand     : isom\n",
            "    minor_version   : 512\n",
            "    compatible_brands: isomiso2avc1mp41\n",
            "    encoder         : Lavf58.76.100\n",
            "  Stream #0:0(und): Video: png, rgb24(pc, gbr/bt709/bt709, progressive), 1920x1080, q=2-31, 200 kb/s, 25 fps, 25 tbn (default)\n",
            "    Metadata:\n",
            "      handler_name    : L-SMASH Video Handler\n",
            "      vendor_id       : [0][0][0][0]\n",
            "      encoder         : Lavc58.134.100 png\n",
            "frame=  340 fps= 20 q=-0.0 Lsize=N/A time=00:00:13.60 bitrate=N/A speed=0.807x    \n",
            "video:748542kB audio:0kB subtitle:0kB other streams:0kB global headers:0kB muxing overhead: unknown\n",
            "Done.\n"
          ]
        }
      ]
    },
    {
      "cell_type": "code",
      "source": [
        "!pip install numexpr"
      ],
      "metadata": {
        "colab": {
          "base_uri": "https://localhost:8080/"
        },
        "id": "HDzx3DQSHpu5",
        "outputId": "fc3bf39d-760f-4a92-a376-bac9ce0808ef"
      },
      "execution_count": 24,
      "outputs": [
        {
          "output_type": "stream",
          "name": "stdout",
          "text": [
            "Collecting numexpr\n",
            "  Downloading numexpr-2.13.0-cp312-cp312-manylinux_2_27_x86_64.manylinux_2_28_x86_64.whl.metadata (9.0 kB)\n",
            "Requirement already satisfied: numpy>=1.23.0 in /usr/local/lib/python3.12/dist-packages (from numexpr) (2.0.2)\n",
            "Downloading numexpr-2.13.0-cp312-cp312-manylinux_2_27_x86_64.manylinux_2_28_x86_64.whl (442 kB)\n",
            "\u001b[?25l   \u001b[90m━━━━━━━━━━━━━━━━━━━━━━━━━━━━━━━━━━━━━━━━\u001b[0m \u001b[32m0.0/442.2 kB\u001b[0m \u001b[31m?\u001b[0m eta \u001b[36m-:--:--\u001b[0m\r\u001b[2K   \u001b[90m━━━━━━━━━━━━━━━━━━━━━━━━━━━━━━━━━━━━━━━━\u001b[0m \u001b[32m442.2/442.2 kB\u001b[0m \u001b[31m14.2 MB/s\u001b[0m eta \u001b[36m0:00:00\u001b[0m\n",
            "\u001b[?25hInstalling collected packages: numexpr\n",
            "Successfully installed numexpr-2.13.0\n"
          ]
        }
      ]
    },
    {
      "cell_type": "code",
      "source": [
        "!python main.py extract --input-dir \"/content/workspace/data_src\" --output-dir \"/content/workspace/data_src/aligned\""
      ],
      "metadata": {
        "colab": {
          "base_uri": "https://localhost:8080/"
        },
        "id": "VvplTsSrDdkS",
        "outputId": "07147582-197c-46b7-d297-43c3f6ddd6d0"
      },
      "execution_count": null,
      "outputs": [
        {
          "output_type": "stream",
          "name": "stdout",
          "text": [
            "/content/drive/MyDrive/deepfake/DFL_Resurrection/main.py:52: SyntaxWarning: invalid escape sequence '\\ '\n",
            "  p.add_argument('--output-debug', action=\"store_true\", dest=\"output_debug\", default=None, help=\"Writes debug images to <output-dir>_debug\\ directory.\")\n",
            "/content/drive/MyDrive/deepfake/DFL_Resurrection/main.py:53: SyntaxWarning: invalid escape sequence '\\ '\n",
            "  p.add_argument('--no-output-debug', action=\"store_false\", dest=\"output_debug\", default=None, help=\"Don't writes debug images to <output-dir>_debug\\ directory.\")\n",
            "/content/drive/MyDrive/deepfake/DFL_Resurrection/main.py:59: SyntaxWarning: invalid escape sequence '\\ '\n",
            "  p.add_argument('--manual-output-debug-fix', action=\"store_true\", dest=\"manual_output_debug_fix\", default=False, help=\"Performs manual reextract input-dir frames which were deleted from [output_dir]_debug\\ dir.\")\n",
            "/content/drive/MyDrive/deepfake/DFL_Resurrection/main.py:52: SyntaxWarning: invalid escape sequence '\\ '\n",
            "  p.add_argument('--output-debug', action=\"store_true\", dest=\"output_debug\", default=None, help=\"Writes debug images to <output-dir>_debug\\ directory.\")\n",
            "/content/drive/MyDrive/deepfake/DFL_Resurrection/main.py:53: SyntaxWarning: invalid escape sequence '\\ '\n",
            "  p.add_argument('--no-output-debug', action=\"store_false\", dest=\"output_debug\", default=None, help=\"Don't writes debug images to <output-dir>_debug\\ directory.\")\n",
            "/content/drive/MyDrive/deepfake/DFL_Resurrection/main.py:59: SyntaxWarning: invalid escape sequence '\\ '\n",
            "  p.add_argument('--manual-output-debug-fix', action=\"store_true\", dest=\"manual_output_debug_fix\", default=False, help=\"Performs manual reextract input-dir frames which were deleted from [output_dir]_debug\\ dir.\")\n",
            "/usr/local/lib/python3.12/dist-packages/jax/_src/cloud_tpu_init.py:82: UserWarning: Transparent hugepages are not enabled. TPU runtime startup and shutdown time should be significantly improved on TPU v5e and newer. If not already set, you may need to enable transparent hugepages in your VM image (sudo sh -c \"echo always > /sys/kernel/mm/transparent_hugepage/enabled\")\n",
            "  warnings.warn(\n",
            "[wf] Face type ( f/wf/head ?:help ) : f\n",
            "f\n",
            "[0] Max number of faces from image ( ?:help ) : 1\n",
            "1\n",
            "[512] Image size ( 256-2048 ?:help ) : 256\n",
            "256\n",
            "[90] Jpeg quality ( 1-100 ?:help ) : 80\n",
            "80\n",
            "Choose detector type.\n",
            "[0] S3FD\n",
            "[1] manual\n",
            "[0] ( 0-1 ) : 0\n",
            "0\n",
            "[n] Write debug images to aligned_debug? ( y/n ) : y\n",
            "Extracting faces...\n",
            "/content/drive/MyDrive/deepfake/DFL_Resurrection/main.py:52: SyntaxWarning: invalid escape sequence '\\ '\n",
            "  p.add_argument('--output-debug', action=\"store_true\", dest=\"output_debug\", default=None, help=\"Writes debug images to <output-dir>_debug\\ directory.\")\n",
            "/content/drive/MyDrive/deepfake/DFL_Resurrection/main.py:53: SyntaxWarning: invalid escape sequence '\\ '\n",
            "  p.add_argument('--no-output-debug', action=\"store_false\", dest=\"output_debug\", default=None, help=\"Don't writes debug images to <output-dir>_debug\\ directory.\")\n",
            "/content/drive/MyDrive/deepfake/DFL_Resurrection/main.py:59: SyntaxWarning: invalid escape sequence '\\ '\n",
            "  p.add_argument('--manual-output-debug-fix', action=\"store_true\", dest=\"manual_output_debug_fix\", default=False, help=\"Performs manual reextract input-dir frames which were deleted from [output_dir]_debug\\ dir.\")\n",
            "/content/drive/MyDrive/deepfake/DFL_Resurrection/main.py:52: SyntaxWarning: invalid escape sequence '\\ '\n",
            "  p.add_argument('--output-debug', action=\"store_true\", dest=\"output_debug\", default=None, help=\"Writes debug images to <output-dir>_debug\\ directory.\")\n",
            "/content/drive/MyDrive/deepfake/DFL_Resurrection/main.py:53: SyntaxWarning: invalid escape sequence '\\ '\n",
            "  p.add_argument('--no-output-debug', action=\"store_false\", dest=\"output_debug\", default=None, help=\"Don't writes debug images to <output-dir>_debug\\ directory.\")\n",
            "/content/drive/MyDrive/deepfake/DFL_Resurrection/main.py:59: SyntaxWarning: invalid escape sequence '\\ '\n",
            "  p.add_argument('--manual-output-debug-fix', action=\"store_true\", dest=\"manual_output_debug_fix\", default=False, help=\"Performs manual reextract input-dir frames which were deleted from [output_dir]_debug\\ dir.\")\n",
            "/content/drive/MyDrive/deepfake/DFL_Resurrection/main.py:52: SyntaxWarning: invalid escape sequence '\\ '\n",
            "  p.add_argument('--output-debug', action=\"store_true\", dest=\"output_debug\", default=None, help=\"Writes debug images to <output-dir>_debug\\ directory.\")\n",
            "/content/drive/MyDrive/deepfake/DFL_Resurrection/main.py:53: SyntaxWarning: invalid escape sequence '\\ '\n",
            "  p.add_argument('--no-output-debug', action=\"store_false\", dest=\"output_debug\", default=None, help=\"Don't writes debug images to <output-dir>_debug\\ directory.\")\n",
            "/content/drive/MyDrive/deepfake/DFL_Resurrection/main.py:59: SyntaxWarning: invalid escape sequence '\\ '\n",
            "  p.add_argument('--manual-output-debug-fix', action=\"store_true\", dest=\"manual_output_debug_fix\", default=False, help=\"Performs manual reextract input-dir frames which were deleted from [output_dir]_debug\\ dir.\")\n",
            "/content/drive/MyDrive/deepfake/DFL_Resurrection/main.py:52: SyntaxWarning: invalid escape sequence '\\ '\n",
            "  p.add_argument('--output-debug', action=\"store_true\", dest=\"output_debug\", default=None, help=\"Writes debug images to <output-dir>_debug\\ directory.\")\n",
            "/content/drive/MyDrive/deepfake/DFL_Resurrection/main.py:53: SyntaxWarning: invalid escape sequence '\\ '\n",
            "  p.add_argument('--no-output-debug', action=\"store_false\", dest=\"output_debug\", default=None, help=\"Don't writes debug images to <output-dir>_debug\\ directory.\")\n",
            "/content/drive/MyDrive/deepfake/DFL_Resurrection/main.py:59: SyntaxWarning: invalid escape sequence '\\ '\n",
            "  p.add_argument('--manual-output-debug-fix', action=\"store_true\", dest=\"manual_output_debug_fix\", default=False, help=\"Performs manual reextract input-dir frames which were deleted from [output_dir]_debug\\ dir.\")\n",
            "/content/drive/MyDrive/deepfake/DFL_Resurrection/main.py:52: SyntaxWarning: invalid escape sequence '\\ '\n",
            "  p.add_argument('--output-debug', action=\"store_true\", dest=\"output_debug\", default=None, help=\"Writes debug images to <output-dir>_debug\\ directory.\")\n",
            "/content/drive/MyDrive/deepfake/DFL_Resurrection/main.py:52: SyntaxWarning: invalid escape sequence '\\ '\n",
            "  p.add_argument('--output-debug', action=\"store_true\", dest=\"output_debug\", default=None, help=\"Writes debug images to <output-dir>_debug\\ directory.\")\n",
            "/content/drive/MyDrive/deepfake/DFL_Resurrection/main.py:53: SyntaxWarning: invalid escape sequence '\\ '\n",
            "  p.add_argument('--no-output-debug', action=\"store_false\", dest=\"output_debug\", default=None, help=\"Don't writes debug images to <output-dir>_debug\\ directory.\")\n",
            "/content/drive/MyDrive/deepfake/DFL_Resurrection/main.py:53: SyntaxWarning: invalid escape sequence '\\ '\n",
            "  p.add_argument('--no-output-debug', action=\"store_false\", dest=\"output_debug\", default=None, help=\"Don't writes debug images to <output-dir>_debug\\ directory.\")\n",
            "/content/drive/MyDrive/deepfake/DFL_Resurrection/main.py:59: SyntaxWarning: invalid escape sequence '\\ '\n",
            "  p.add_argument('--manual-output-debug-fix', action=\"store_true\", dest=\"manual_output_debug_fix\", default=False, help=\"Performs manual reextract input-dir frames which were deleted from [output_dir]_debug\\ dir.\")\n",
            "/content/drive/MyDrive/deepfake/DFL_Resurrection/main.py:59: SyntaxWarning: invalid escape sequence '\\ '\n",
            "  p.add_argument('--manual-output-debug-fix', action=\"store_true\", dest=\"manual_output_debug_fix\", default=False, help=\"Performs manual reextract input-dir frames which were deleted from [output_dir]_debug\\ dir.\")\n",
            "/content/drive/MyDrive/deepfake/DFL_Resurrection/main.py:52: SyntaxWarning: invalid escape sequence '\\ '\n",
            "  p.add_argument('--output-debug', action=\"store_true\", dest=\"output_debug\", default=None, help=\"Writes debug images to <output-dir>_debug\\ directory.\")\n",
            "/content/drive/MyDrive/deepfake/DFL_Resurrection/main.py:53: SyntaxWarning: invalid escape sequence '\\ '\n",
            "  p.add_argument('--no-output-debug', action=\"store_false\", dest=\"output_debug\", default=None, help=\"Don't writes debug images to <output-dir>_debug\\ directory.\")\n",
            "/content/drive/MyDrive/deepfake/DFL_Resurrection/main.py:59: SyntaxWarning: invalid escape sequence '\\ '\n",
            "  p.add_argument('--manual-output-debug-fix', action=\"store_true\", dest=\"manual_output_debug_fix\", default=False, help=\"Performs manual reextract input-dir frames which were deleted from [output_dir]_debug\\ dir.\")\n",
            "/content/drive/MyDrive/deepfake/DFL_Resurrection/main.py:52: SyntaxWarning: invalid escape sequence '\\ '\n",
            "  p.add_argument('--output-debug', action=\"store_true\", dest=\"output_debug\", default=None, help=\"Writes debug images to <output-dir>_debug\\ directory.\")\n",
            "/content/drive/MyDrive/deepfake/DFL_Resurrection/main.py:53: SyntaxWarning: invalid escape sequence '\\ '\n",
            "  p.add_argument('--no-output-debug', action=\"store_false\", dest=\"output_debug\", default=None, help=\"Don't writes debug images to <output-dir>_debug\\ directory.\")\n",
            "/content/drive/MyDrive/deepfake/DFL_Resurrection/main.py:59: SyntaxWarning: invalid escape sequence '\\ '\n",
            "  p.add_argument('--manual-output-debug-fix', action=\"store_true\", dest=\"manual_output_debug_fix\", default=False, help=\"Performs manual reextract input-dir frames which were deleted from [output_dir]_debug\\ dir.\")\n",
            "/usr/local/lib/python3.12/dist-packages/jax/_src/cloud_tpu_init.py:82: UserWarning: Transparent hugepages are not enabled. TPU runtime startup and shutdown time should be significantly improved on TPU v5e and newer. If not already set, you may need to enable transparent hugepages in your VM image (sudo sh -c \"echo always > /sys/kernel/mm/transparent_hugepage/enabled\")\n",
            "  warnings.warn(\n",
            "/usr/local/lib/python3.12/dist-packages/jax/_src/cloud_tpu_init.py:82: UserWarning: Transparent hugepages are not enabled. TPU runtime startup and shutdown time should be significantly improved on TPU v5e and newer. If not already set, you may need to enable transparent hugepages in your VM image (sudo sh -c \"echo always > /sys/kernel/mm/transparent_hugepage/enabled\")\n",
            "  warnings.warn(\n",
            "/usr/local/lib/python3.12/dist-packages/jax/_src/cloud_tpu_init.py:82: UserWarning: Transparent hugepages are not enabled. TPU runtime startup and shutdown time should be significantly improved on TPU v5e and newer. If not already set, you may need to enable transparent hugepages in your VM image (sudo sh -c \"echo always > /sys/kernel/mm/transparent_hugepage/enabled\")\n",
            "  warnings.warn(\n",
            "/usr/local/lib/python3.12/dist-packages/jax/_src/cloud_tpu_init.py:82: UserWarning: Transparent hugepages are not enabled. TPU runtime startup and shutdown time should be significantly improved on TPU v5e and newer. If not already set, you may need to enable transparent hugepages in your VM image (sudo sh -c \"echo always > /sys/kernel/mm/transparent_hugepage/enabled\")\n",
            "  warnings.warn(\n",
            "/usr/local/lib/python3.12/dist-packages/jax/_src/cloud_tpu_init.py:82: UserWarning: Transparent hugepages are not enabled. TPU runtime startup and shutdown time should be significantly improved on TPU v5e and newer. If not already set, you may need to enable transparent hugepages in your VM image (sudo sh -c \"echo always > /sys/kernel/mm/transparent_hugepage/enabled\")\n",
            "  warnings.warn(\n",
            "/usr/local/lib/python3.12/dist-packages/jax/_src/cloud_tpu_init.py:82: UserWarning: Transparent hugepages are not enabled. TPU runtime startup and shutdown time should be significantly improved on TPU v5e and newer. If not already set, you may need to enable transparent hugepages in your VM image (sudo sh -c \"echo always > /sys/kernel/mm/transparent_hugepage/enabled\")\n",
            "  warnings.warn(\n",
            "/usr/local/lib/python3.12/dist-packages/jax/_src/cloud_tpu_init.py:82: UserWarning: Transparent hugepages are not enabled. TPU runtime startup and shutdown time should be significantly improved on TPU v5e and newer. If not already set, you may need to enable transparent hugepages in your VM image (sudo sh -c \"echo always > /sys/kernel/mm/transparent_hugepage/enabled\")\n",
            "  warnings.warn(\n",
            "/usr/local/lib/python3.12/dist-packages/jax/_src/cloud_tpu_init.py:82: UserWarning: Transparent hugepages are not enabled. TPU runtime startup and shutdown time should be significantly improved on TPU v5e and newer. If not already set, you may need to enable transparent hugepages in your VM image (sudo sh -c \"echo always > /sys/kernel/mm/transparent_hugepage/enabled\")\n",
            "  warnings.warn(\n",
            "Running on CPU5\n",
            "Running on CPU0\n",
            "Running on CPU4\n",
            "Running on CPU2\n",
            "Running on CPU6\n",
            "Running on CPU1\n",
            "Running on CPU3\n",
            "Running on CPU7\n",
            "WARNING: All log messages before absl::InitializeLog() is called are written to STDERR\n",
            "I0000 00:00:1758925484.977322    9612 mlir_graph_optimization_pass.cc:437] MLIR V1 optimization pass is not enabled\n",
            "WARNING: All log messages before absl::InitializeLog() is called are written to STDERR\n",
            "I0000 00:00:1758925484.983944    9609 mlir_graph_optimization_pass.cc:437] MLIR V1 optimization pass is not enabled\n",
            "WARNING: All log messages before absl::InitializeLog() is called are written to STDERR\n",
            "I0000 00:00:1758925484.987844    9616 mlir_graph_optimization_pass.cc:437] MLIR V1 optimization pass is not enabled\n",
            "WARNING: All log messages before absl::InitializeLog() is called are written to STDERR\n",
            "I0000 00:00:1758925484.990207    9614 mlir_graph_optimization_pass.cc:437] MLIR V1 optimization pass is not enabled\n",
            "WARNING: All log messages before absl::InitializeLog() is called are written to STDERR\n",
            "I0000 00:00:1758925484.990407    9613 mlir_graph_optimization_pass.cc:437] MLIR V1 optimization pass is not enabled\n",
            "WARNING: All log messages before absl::InitializeLog() is called are written to STDERR\n",
            "I0000 00:00:1758925484.990668    9615 mlir_graph_optimization_pass.cc:437] MLIR V1 optimization pass is not enabled\n",
            "WARNING: All log messages before absl::InitializeLog() is called are written to STDERR\n",
            "I0000 00:00:1758925484.992598    9610 mlir_graph_optimization_pass.cc:437] MLIR V1 optimization pass is not enabled\n",
            "WARNING: All log messages before absl::InitializeLog() is called are written to STDERR\n",
            "I0000 00:00:1758925485.004610    9611 mlir_graph_optimization_pass.cc:437] MLIR V1 optimization pass is not enabled\n",
            "  0% 0/340 [00:00<?, ?it/s]"
          ]
        }
      ]
    }
  ]
}